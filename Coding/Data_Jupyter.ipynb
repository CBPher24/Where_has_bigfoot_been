{
 "cells": [
  {
   "cell_type": "code",
   "execution_count": null,
   "id": "6e7c6f60",
   "metadata": {},
   "outputs": [],
   "source": [
    "import pandas as pd\n",
    "import numpy as np\n",
    "import pymongo as db\n",
    "from pymongo import MongoClient\n",
    "client = MongoClient()"
   ]
  },
  {
   "cell_type": "code",
   "execution_count": null,
   "id": "06f57469",
   "metadata": {},
   "outputs": [],
   "source": [
    "db=client.Project_3"
   ]
  },
  {
   "cell_type": "code",
   "execution_count": null,
   "id": "e7814965",
   "metadata": {},
   "outputs": [],
   "source": [
    "db.Bigfoot.drop() # drop collection if exists to avoid duplicating"
   ]
  },
  {
   "cell_type": "code",
   "execution_count": null,
   "id": "817de121",
   "metadata": {},
   "outputs": [],
   "source": [
    "bf_df=pd.read_csv(\"../Data/Bigfoot_Locations.csv\")"
   ]
  },
  {
   "cell_type": "code",
   "execution_count": null,
   "id": "fd3dcf5b",
   "metadata": {
    "scrolled": false
   },
   "outputs": [],
   "source": [
    "bf_df.columns"
   ]
  },
  {
   "cell_type": "code",
   "execution_count": null,
   "id": "f3c2ea9f",
   "metadata": {},
   "outputs": [],
   "source": [
    "state_names=pd.unique(bf_df['STATE_NAME'])"
   ]
  },
  {
   "cell_type": "code",
   "execution_count": null,
   "id": "885347e4",
   "metadata": {},
   "outputs": [],
   "source": [
    "len(state_names)"
   ]
  },
  {
   "cell_type": "code",
   "execution_count": null,
   "id": "38340494",
   "metadata": {},
   "outputs": [],
   "source": [
    "print(state_names)"
   ]
  },
  {
   "cell_type": "code",
   "execution_count": null,
   "id": "53f10b5a",
   "metadata": {},
   "outputs": [],
   "source": [
    "bf_df = bf_df[bf_df.STATE_NAME != ' ']"
   ]
  },
  {
   "cell_type": "code",
   "execution_count": null,
   "id": "be63f1cd",
   "metadata": {},
   "outputs": [],
   "source": [
    "bf_df"
   ]
  },
  {
   "cell_type": "code",
   "execution_count": null,
   "id": "bab1e6d0",
   "metadata": {},
   "outputs": [],
   "source": [
    "\n",
    "classes = []\n",
    "for index, row in bf_df.iterrows():\n",
    "\n",
    "    if 'Class A' in row['descriptio']:\n",
    "        classes.append('Class A')\n",
    "    elif 'Class B' in row['descriptio']:\n",
    "        classes.append('Class B')\n",
    "    elif 'Class C' in row['descriptio']:\n",
    "        classes.append('Class C')\n",
    "    else:\n",
    "        classes.append('None')\n",
    "        \n",
    "\n",
    "        \n"
   ]
  },
  {
   "cell_type": "code",
   "execution_count": null,
   "id": "2cf8389f",
   "metadata": {},
   "outputs": [],
   "source": [
    "bf_df['class'] = classes"
   ]
  },
  {
   "cell_type": "code",
   "execution_count": null,
   "id": "5f75b977",
   "metadata": {},
   "outputs": [],
   "source": [
    "bf_df['class']['class A'] "
   ]
  },
  {
   "cell_type": "code",
   "execution_count": null,
   "id": "4d040421",
   "metadata": {},
   "outputs": [],
   "source": [
    "bf_df.loc[bf_df['class'] == 'None' ]"
   ]
  },
  {
   "cell_type": "code",
   "execution_count": null,
   "id": "2398e2c9",
   "metadata": {},
   "outputs": [],
   "source": [
    "for x in range(len(bf_df)):\n",
    "        results=bf_df.iloc[x,:]\n",
    "        index=results[\"ObjectId\"].astype('str')\n",
    "        result=results.to_dict()\n",
    "        db.Bigfoot.insert_one({\"index\":index,\"data\":result})\n",
    "        "
   ]
  },
  {
   "cell_type": "code",
   "execution_count": null,
   "id": "79b41b47",
   "metadata": {},
   "outputs": [],
   "source": []
  },
  {
   "cell_type": "code",
   "execution_count": null,
   "id": "0c17af79",
   "metadata": {},
   "outputs": [],
   "source": []
  }
 ],
 "metadata": {
  "kernelspec": {
   "display_name": "Python 3 (ipykernel)",
   "language": "python",
   "name": "python3"
  },
  "language_info": {
   "codemirror_mode": {
    "name": "ipython",
    "version": 3
   },
   "file_extension": ".py",
   "mimetype": "text/x-python",
   "name": "python",
   "nbconvert_exporter": "python",
   "pygments_lexer": "ipython3",
   "version": "3.9.7"
  }
 },
 "nbformat": 4,
 "nbformat_minor": 5
}
